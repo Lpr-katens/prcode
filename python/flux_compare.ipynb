{
 "cells": [
  {
   "cell_type": "code",
   "execution_count": 3,
   "metadata": {},
   "outputs": [],
   "source": [
    "from astropy.io import fits\n",
    "import numpy as np\n",
    "import os\n",
    "# from IPython.display import clear_output\n",
    "band_list = ['f606w','f850l','f125w','f160w']\n",
    "huang_root_path = '/Users/lpr/Data/lirg_project/intake/CANDELS/'\n",
    "my_root_path = '/Users/lpr/Data/lirg_project/output/goodsn/'\n",
    "check = 0\n",
    "for band in band_list:\n",
    "    images_list = os.listdir(huang_root_path+'goodsn_'+band[:-1])\n",
    "    for image in images_list:\n",
    "        if image.endswith('.fits'):\n",
    "            idx = image[7:image.index('_',8)]\n",
    "            huang_ima = fits.open(huang_root_path+'goodsn_'+band[:-1]+'/'+image)[0].data\n",
    "            my_ima = fits.open(my_root_path+'goodsn_'+band+'/goodsn_'+band+'_'+idx+'.fits')[0].data\n",
    "            if (huang_ima==my_ima).all():\n",
    "                check = 1\n",
    "            else:\n",
    "                print(band+idx)"
   ]
  }
 ],
 "metadata": {
  "kernelspec": {
   "display_name": "Python 3",
   "language": "python",
   "name": "python3"
  },
  "language_info": {
   "codemirror_mode": {
    "name": "ipython",
    "version": 3
   },
   "file_extension": ".py",
   "mimetype": "text/x-python",
   "name": "python",
   "nbconvert_exporter": "python",
   "pygments_lexer": "ipython3",
   "version": "3.8.8"
  }
 },
 "nbformat": 4,
 "nbformat_minor": 4
}
