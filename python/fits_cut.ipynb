{
 "cells": [
  {
   "cell_type": "code",
   "execution_count": 70,
   "metadata": {},
   "outputs": [],
   "source": [
    "# ==================\n",
    "# cut whole field image into single galaxy size with number\n",
    "# ==================\n",
    "\n",
    "from astropy.io import fits\n",
    "import os\n",
    "import datetime\n",
    "# store all band whole field image of goodsn\n",
    "bigfilelist = [] # all wavelength image of whole field\n",
    "bigoriginal_file = os.listdir('/Users/lpr/Data/fits/expdata/HST/goodsn_all/multiband_convolveimage')\n",
    "for items in bigoriginal_file:\n",
    "    if items.endswith('.fits'):\n",
    "        bigfilelist.append(items)\n",
    "print('big image load done')\n",
    "# store every galaxy small image of goodsn\n",
    "smallfilelist = []\n",
    "smalloriginal_file = os.listdir('/Users/lpr/Data/fits/pridata/goodsn_f125')\n",
    "for items in smalloriginal_file:\n",
    "    if items.endswith('.fits'):\n",
    "        smallfilelist.append(items)\n",
    "print('small image load done')\n",
    "\n",
    "for big in bigfilelist:\n",
    "    band = big[big.index('_')+1:big.index('.fits')]\n",
    "    big_image = fits.open('/Users/lpr/Data/fits/expdata/HST/goodsn_all/multiband_convolveimage/'+big)\n",
    "    os.system('mkdir /Users/lpr/Data/fits/expdata/HST/goodsn_all/multiband_cutimage/goodsn_'+band)\n",
    "    print(band+' directory generation done')\n",
    "    for small in smallfilelist:\n",
    "        small_image = fits.open('/Users/lpr/Data/fits/pridata/goodsn_f125/'+small)\n",
    "        small_image_header = fits.getheader('/Users/lpr/Data/fits/pridata/goodsn_f125/'+small,0)\n",
    "        small_image[0].header['HISTORY'][0] = 'HEXTRACT: Mon Oct 9 2020'+ str(datetime.datetime.now().time())\n",
    "        x_range = small_image_header['HISTORY'][2][small_image_header['HISTORY'][2].index('[')+1:small_image_header['HISTORY'][2].index(',')]\n",
    "        y_range = small_image_header['HISTORY'][2][small_image_header['HISTORY'][2].index(',')+1:small_image_header['HISTORY'][2].index(']')]\n",
    "        cut_image = big_image[0].data[int(y_range[0:y_range.index(':')]):int(y_range[y_range.index(':')+1:])+1,int(x_range[0:x_range.index(':')]):int(x_range[x_range.index(':')+1:])+1]\n",
    "        small_image[0].data = cut_image\n",
    "        small_image.writeto('/Users/lpr/Data/fits/expdata/HST/goodsn_all/multiband_cutimage/goodsn_'+band+'/goodsn_'+band+'_'+small[small.index('_')+1:small.index('_f125w')]+'.fits')\n",
    "        print(band+small[small.index('_')+1:small.index('_f125w')]+'.fits cut done')"
   ]
  }
 ],
 "metadata": {
  "kernelspec": {
   "display_name": "Python 3",
   "language": "python",
   "name": "python3"
  },
  "language_info": {
   "codemirror_mode": {
    "name": "ipython",
    "version": 3
   },
   "file_extension": ".py",
   "mimetype": "text/x-python",
   "name": "python",
   "nbconvert_exporter": "python",
   "pygments_lexer": "ipython3",
   "version": "3.8.3"
  }
 },
 "nbformat": 4,
 "nbformat_minor": 4
}
